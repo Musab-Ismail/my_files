{
 "cells": [
  {
   "cell_type": "markdown",
   "metadata": {
    "id": "yugMU9MjJtBl"
   },
   "source": [
    "# Activity: Build an XGBoost model"
   ]
  },
  {
   "cell_type": "markdown",
   "metadata": {
    "id": "EzWqJunmJotv"
   },
   "source": [
    "## Introduction\n",
    "\n",
    "In this activity, you’ll build on the skills and techniques you learned in the decision tree and random forest lessons to construct your own XGBoost classification model. The XGBoost model is a very powerful extension of decision trees, so having a strong working familiarity with this process will strengthen your skills and resume as a data professional.\n",
    "\n",
    "This activity is a continuation of the airlines project in which you built decision tree and random forest models. You will use the same data, but this time you will train, tune, and evaluate an XGBoost model. You’ll then compare the performance of all three models and decide which model is best. Finally, you’ll explore the feature importances of your model and identify the features that most contribute to customer satisfaction.\n"
   ]
  },
  {
   "cell_type": "markdown",
   "metadata": {
    "id": "yTVinL1hJqoy"
   },
   "source": [
    "## Step 1: Imports"
   ]
  },
  {
   "cell_type": "markdown",
   "metadata": {
    "id": "DDIRpqkZJ4S8"
   },
   "source": [
    "### Import packages\n",
    "\n",
    "Begin with your import statements. First, import `pandas`, `numpy`, and `matplotlib` for data preparation. Next, import scikit-learn (`sklearn`) for model preparation and evaluation. Then, import `xgboost`, which provides the classification algorithm you'll implement to formulate your predictive model."
   ]
  },
  {
   "cell_type": "code",
   "execution_count": 1,
   "metadata": {
    "id": "1nDjAJPa4lVZ"
   },
   "outputs": [],
   "source": [
    "# Import relevant libraries and modules.\n",
    "\n",
    "import numpy as np\n",
    "import pandas as pd\n",
    "import matplotlib.pyplot as plt\n",
    "from xgboost import XGBClassifier\n",
    "from sklearn.model_selection import GridSearchCV, train_test_split\n",
    "from sklearn.metrics import accuracy_score, precision_score, recall_score,\\\n",
    "f1_score, confusion_matrix, ConfusionMatrixDisplay, RocCurveDisplay\n",
    "import pickle"
   ]
  },
  {
   "cell_type": "markdown",
   "metadata": {
    "id": "hKylHziGzY3X"
   },
   "source": [
    "### Load the dataset\n",
    "\n",
    "To formulate your model, `pandas` is used to import a csv of airline passenger satisfaction data called `Invistico_Airline.csv`. This DataFrame is called `airline_data`. As shown in this cell, the dataset has been automatically loaded in for you. You do not need to download the .csv file, or provide more code, in order to access the dataset and proceed with this lab. Please continue with this activity by completing the following instructions."
   ]
  },
  {
   "cell_type": "code",
   "execution_count": 2,
   "metadata": {
    "id": "4ebqpNcm4BDH"
   },
   "outputs": [],
   "source": [
    "# RUN THIS CELL TO IMPORT YOUR DATA. \n",
    "\n",
    "### YOUR CODE HERE ###\n",
    "\n",
    "airline_data = pd.read_csv('Invistico_Airline.csv', error_bad_lines=False)"
   ]
  },
  {
   "cell_type": "markdown",
   "metadata": {
    "id": "yXvtnFn5oBIG"
   },
   "source": [
    "### Display the data"
   ]
  },
  {
   "cell_type": "markdown",
   "metadata": {
    "id": "6bg_6M3IRgMU"
   },
   "source": [
    "Examine the first 10 rows of data to familiarize yourself with the dataset."
   ]
  },
  {
   "cell_type": "code",
   "execution_count": 3,
   "metadata": {
    "id": "JWu8u19C2sn1"
   },
   "outputs": [
    {
     "data": {
      "text/html": [
       "<div>\n",
       "<style scoped>\n",
       "    .dataframe tbody tr th:only-of-type {\n",
       "        vertical-align: middle;\n",
       "    }\n",
       "\n",
       "    .dataframe tbody tr th {\n",
       "        vertical-align: top;\n",
       "    }\n",
       "\n",
       "    .dataframe thead th {\n",
       "        text-align: right;\n",
       "    }\n",
       "</style>\n",
       "<table border=\"1\" class=\"dataframe\">\n",
       "  <thead>\n",
       "    <tr style=\"text-align: right;\">\n",
       "      <th></th>\n",
       "      <th>satisfaction</th>\n",
       "      <th>Customer Type</th>\n",
       "      <th>Age</th>\n",
       "      <th>Type of Travel</th>\n",
       "      <th>Class</th>\n",
       "      <th>Flight Distance</th>\n",
       "      <th>Seat comfort</th>\n",
       "      <th>Departure/Arrival time convenient</th>\n",
       "      <th>Food and drink</th>\n",
       "      <th>Gate location</th>\n",
       "      <th>...</th>\n",
       "      <th>Online support</th>\n",
       "      <th>Ease of Online booking</th>\n",
       "      <th>On-board service</th>\n",
       "      <th>Leg room service</th>\n",
       "      <th>Baggage handling</th>\n",
       "      <th>Checkin service</th>\n",
       "      <th>Cleanliness</th>\n",
       "      <th>Online boarding</th>\n",
       "      <th>Departure Delay in Minutes</th>\n",
       "      <th>Arrival Delay in Minutes</th>\n",
       "    </tr>\n",
       "  </thead>\n",
       "  <tbody>\n",
       "    <tr>\n",
       "      <th>0</th>\n",
       "      <td>satisfied</td>\n",
       "      <td>Loyal Customer</td>\n",
       "      <td>65</td>\n",
       "      <td>Personal Travel</td>\n",
       "      <td>Eco</td>\n",
       "      <td>265</td>\n",
       "      <td>0</td>\n",
       "      <td>0</td>\n",
       "      <td>0</td>\n",
       "      <td>2</td>\n",
       "      <td>...</td>\n",
       "      <td>2</td>\n",
       "      <td>3</td>\n",
       "      <td>3</td>\n",
       "      <td>0</td>\n",
       "      <td>3</td>\n",
       "      <td>5</td>\n",
       "      <td>3</td>\n",
       "      <td>2</td>\n",
       "      <td>0</td>\n",
       "      <td>0.0</td>\n",
       "    </tr>\n",
       "    <tr>\n",
       "      <th>1</th>\n",
       "      <td>satisfied</td>\n",
       "      <td>Loyal Customer</td>\n",
       "      <td>47</td>\n",
       "      <td>Personal Travel</td>\n",
       "      <td>Business</td>\n",
       "      <td>2464</td>\n",
       "      <td>0</td>\n",
       "      <td>0</td>\n",
       "      <td>0</td>\n",
       "      <td>3</td>\n",
       "      <td>...</td>\n",
       "      <td>2</td>\n",
       "      <td>3</td>\n",
       "      <td>4</td>\n",
       "      <td>4</td>\n",
       "      <td>4</td>\n",
       "      <td>2</td>\n",
       "      <td>3</td>\n",
       "      <td>2</td>\n",
       "      <td>310</td>\n",
       "      <td>305.0</td>\n",
       "    </tr>\n",
       "    <tr>\n",
       "      <th>2</th>\n",
       "      <td>satisfied</td>\n",
       "      <td>Loyal Customer</td>\n",
       "      <td>15</td>\n",
       "      <td>Personal Travel</td>\n",
       "      <td>Eco</td>\n",
       "      <td>2138</td>\n",
       "      <td>0</td>\n",
       "      <td>0</td>\n",
       "      <td>0</td>\n",
       "      <td>3</td>\n",
       "      <td>...</td>\n",
       "      <td>2</td>\n",
       "      <td>2</td>\n",
       "      <td>3</td>\n",
       "      <td>3</td>\n",
       "      <td>4</td>\n",
       "      <td>4</td>\n",
       "      <td>4</td>\n",
       "      <td>2</td>\n",
       "      <td>0</td>\n",
       "      <td>0.0</td>\n",
       "    </tr>\n",
       "    <tr>\n",
       "      <th>3</th>\n",
       "      <td>satisfied</td>\n",
       "      <td>Loyal Customer</td>\n",
       "      <td>60</td>\n",
       "      <td>Personal Travel</td>\n",
       "      <td>Eco</td>\n",
       "      <td>623</td>\n",
       "      <td>0</td>\n",
       "      <td>0</td>\n",
       "      <td>0</td>\n",
       "      <td>3</td>\n",
       "      <td>...</td>\n",
       "      <td>3</td>\n",
       "      <td>1</td>\n",
       "      <td>1</td>\n",
       "      <td>0</td>\n",
       "      <td>1</td>\n",
       "      <td>4</td>\n",
       "      <td>1</td>\n",
       "      <td>3</td>\n",
       "      <td>0</td>\n",
       "      <td>0.0</td>\n",
       "    </tr>\n",
       "    <tr>\n",
       "      <th>4</th>\n",
       "      <td>satisfied</td>\n",
       "      <td>Loyal Customer</td>\n",
       "      <td>70</td>\n",
       "      <td>Personal Travel</td>\n",
       "      <td>Eco</td>\n",
       "      <td>354</td>\n",
       "      <td>0</td>\n",
       "      <td>0</td>\n",
       "      <td>0</td>\n",
       "      <td>3</td>\n",
       "      <td>...</td>\n",
       "      <td>4</td>\n",
       "      <td>2</td>\n",
       "      <td>2</td>\n",
       "      <td>0</td>\n",
       "      <td>2</td>\n",
       "      <td>4</td>\n",
       "      <td>2</td>\n",
       "      <td>5</td>\n",
       "      <td>0</td>\n",
       "      <td>0.0</td>\n",
       "    </tr>\n",
       "    <tr>\n",
       "      <th>5</th>\n",
       "      <td>satisfied</td>\n",
       "      <td>Loyal Customer</td>\n",
       "      <td>30</td>\n",
       "      <td>Personal Travel</td>\n",
       "      <td>Eco</td>\n",
       "      <td>1894</td>\n",
       "      <td>0</td>\n",
       "      <td>0</td>\n",
       "      <td>0</td>\n",
       "      <td>3</td>\n",
       "      <td>...</td>\n",
       "      <td>2</td>\n",
       "      <td>2</td>\n",
       "      <td>5</td>\n",
       "      <td>4</td>\n",
       "      <td>5</td>\n",
       "      <td>5</td>\n",
       "      <td>4</td>\n",
       "      <td>2</td>\n",
       "      <td>0</td>\n",
       "      <td>0.0</td>\n",
       "    </tr>\n",
       "    <tr>\n",
       "      <th>6</th>\n",
       "      <td>satisfied</td>\n",
       "      <td>Loyal Customer</td>\n",
       "      <td>66</td>\n",
       "      <td>Personal Travel</td>\n",
       "      <td>Eco</td>\n",
       "      <td>227</td>\n",
       "      <td>0</td>\n",
       "      <td>0</td>\n",
       "      <td>0</td>\n",
       "      <td>3</td>\n",
       "      <td>...</td>\n",
       "      <td>5</td>\n",
       "      <td>5</td>\n",
       "      <td>5</td>\n",
       "      <td>0</td>\n",
       "      <td>5</td>\n",
       "      <td>5</td>\n",
       "      <td>5</td>\n",
       "      <td>3</td>\n",
       "      <td>17</td>\n",
       "      <td>15.0</td>\n",
       "    </tr>\n",
       "    <tr>\n",
       "      <th>7</th>\n",
       "      <td>satisfied</td>\n",
       "      <td>Loyal Customer</td>\n",
       "      <td>10</td>\n",
       "      <td>Personal Travel</td>\n",
       "      <td>Eco</td>\n",
       "      <td>1812</td>\n",
       "      <td>0</td>\n",
       "      <td>0</td>\n",
       "      <td>0</td>\n",
       "      <td>3</td>\n",
       "      <td>...</td>\n",
       "      <td>2</td>\n",
       "      <td>2</td>\n",
       "      <td>3</td>\n",
       "      <td>3</td>\n",
       "      <td>4</td>\n",
       "      <td>5</td>\n",
       "      <td>4</td>\n",
       "      <td>2</td>\n",
       "      <td>0</td>\n",
       "      <td>0.0</td>\n",
       "    </tr>\n",
       "    <tr>\n",
       "      <th>8</th>\n",
       "      <td>satisfied</td>\n",
       "      <td>Loyal Customer</td>\n",
       "      <td>56</td>\n",
       "      <td>Personal Travel</td>\n",
       "      <td>Business</td>\n",
       "      <td>73</td>\n",
       "      <td>0</td>\n",
       "      <td>0</td>\n",
       "      <td>0</td>\n",
       "      <td>3</td>\n",
       "      <td>...</td>\n",
       "      <td>5</td>\n",
       "      <td>4</td>\n",
       "      <td>4</td>\n",
       "      <td>0</td>\n",
       "      <td>1</td>\n",
       "      <td>5</td>\n",
       "      <td>4</td>\n",
       "      <td>4</td>\n",
       "      <td>0</td>\n",
       "      <td>0.0</td>\n",
       "    </tr>\n",
       "    <tr>\n",
       "      <th>9</th>\n",
       "      <td>satisfied</td>\n",
       "      <td>Loyal Customer</td>\n",
       "      <td>22</td>\n",
       "      <td>Personal Travel</td>\n",
       "      <td>Eco</td>\n",
       "      <td>1556</td>\n",
       "      <td>0</td>\n",
       "      <td>0</td>\n",
       "      <td>0</td>\n",
       "      <td>3</td>\n",
       "      <td>...</td>\n",
       "      <td>2</td>\n",
       "      <td>2</td>\n",
       "      <td>2</td>\n",
       "      <td>4</td>\n",
       "      <td>5</td>\n",
       "      <td>3</td>\n",
       "      <td>4</td>\n",
       "      <td>2</td>\n",
       "      <td>30</td>\n",
       "      <td>26.0</td>\n",
       "    </tr>\n",
       "  </tbody>\n",
       "</table>\n",
       "<p>10 rows × 22 columns</p>\n",
       "</div>"
      ],
      "text/plain": [
       "  satisfaction   Customer Type  Age   Type of Travel     Class  \\\n",
       "0    satisfied  Loyal Customer   65  Personal Travel       Eco   \n",
       "1    satisfied  Loyal Customer   47  Personal Travel  Business   \n",
       "2    satisfied  Loyal Customer   15  Personal Travel       Eco   \n",
       "3    satisfied  Loyal Customer   60  Personal Travel       Eco   \n",
       "4    satisfied  Loyal Customer   70  Personal Travel       Eco   \n",
       "5    satisfied  Loyal Customer   30  Personal Travel       Eco   \n",
       "6    satisfied  Loyal Customer   66  Personal Travel       Eco   \n",
       "7    satisfied  Loyal Customer   10  Personal Travel       Eco   \n",
       "8    satisfied  Loyal Customer   56  Personal Travel  Business   \n",
       "9    satisfied  Loyal Customer   22  Personal Travel       Eco   \n",
       "\n",
       "   Flight Distance  Seat comfort  Departure/Arrival time convenient  \\\n",
       "0              265             0                                  0   \n",
       "1             2464             0                                  0   \n",
       "2             2138             0                                  0   \n",
       "3              623             0                                  0   \n",
       "4              354             0                                  0   \n",
       "5             1894             0                                  0   \n",
       "6              227             0                                  0   \n",
       "7             1812             0                                  0   \n",
       "8               73             0                                  0   \n",
       "9             1556             0                                  0   \n",
       "\n",
       "   Food and drink  Gate location  ...  Online support  Ease of Online booking  \\\n",
       "0               0              2  ...               2                       3   \n",
       "1               0              3  ...               2                       3   \n",
       "2               0              3  ...               2                       2   \n",
       "3               0              3  ...               3                       1   \n",
       "4               0              3  ...               4                       2   \n",
       "5               0              3  ...               2                       2   \n",
       "6               0              3  ...               5                       5   \n",
       "7               0              3  ...               2                       2   \n",
       "8               0              3  ...               5                       4   \n",
       "9               0              3  ...               2                       2   \n",
       "\n",
       "   On-board service  Leg room service  Baggage handling  Checkin service  \\\n",
       "0                 3                 0                 3                5   \n",
       "1                 4                 4                 4                2   \n",
       "2                 3                 3                 4                4   \n",
       "3                 1                 0                 1                4   \n",
       "4                 2                 0                 2                4   \n",
       "5                 5                 4                 5                5   \n",
       "6                 5                 0                 5                5   \n",
       "7                 3                 3                 4                5   \n",
       "8                 4                 0                 1                5   \n",
       "9                 2                 4                 5                3   \n",
       "\n",
       "   Cleanliness  Online boarding  Departure Delay in Minutes  \\\n",
       "0            3                2                           0   \n",
       "1            3                2                         310   \n",
       "2            4                2                           0   \n",
       "3            1                3                           0   \n",
       "4            2                5                           0   \n",
       "5            4                2                           0   \n",
       "6            5                3                          17   \n",
       "7            4                2                           0   \n",
       "8            4                4                           0   \n",
       "9            4                2                          30   \n",
       "\n",
       "   Arrival Delay in Minutes  \n",
       "0                       0.0  \n",
       "1                     305.0  \n",
       "2                       0.0  \n",
       "3                       0.0  \n",
       "4                       0.0  \n",
       "5                       0.0  \n",
       "6                      15.0  \n",
       "7                       0.0  \n",
       "8                       0.0  \n",
       "9                      26.0  \n",
       "\n",
       "[10 rows x 22 columns]"
      ]
     },
     "execution_count": 3,
     "metadata": {},
     "output_type": "execute_result"
    }
   ],
   "source": [
    "# Display the first ten rows of data.\n",
    "\n",
    "airline_data.head(10)"
   ]
  },
  {
   "cell_type": "markdown",
   "metadata": {
    "id": "ADuU5IWb04cu"
   },
   "source": [
    "### Display the data type for each column\n",
    "\n",
    "Next, observe the types of data present within this dataset."
   ]
  },
  {
   "cell_type": "code",
   "execution_count": 4,
   "metadata": {
    "id": "ABDz9TMu04cv"
   },
   "outputs": [
    {
     "data": {
      "text/plain": [
       "satisfaction                          object\n",
       "Customer Type                         object\n",
       "Age                                    int64\n",
       "Type of Travel                        object\n",
       "Class                                 object\n",
       "Flight Distance                        int64\n",
       "Seat comfort                           int64\n",
       "Departure/Arrival time convenient      int64\n",
       "Food and drink                         int64\n",
       "Gate location                          int64\n",
       "Inflight wifi service                  int64\n",
       "Inflight entertainment                 int64\n",
       "Online support                         int64\n",
       "Ease of Online booking                 int64\n",
       "On-board service                       int64\n",
       "Leg room service                       int64\n",
       "Baggage handling                       int64\n",
       "Checkin service                        int64\n",
       "Cleanliness                            int64\n",
       "Online boarding                        int64\n",
       "Departure Delay in Minutes             int64\n",
       "Arrival Delay in Minutes             float64\n",
       "dtype: object"
      ]
     },
     "execution_count": 4,
     "metadata": {},
     "output_type": "execute_result"
    }
   ],
   "source": [
    "# Display the data type for each column in your DataFrame.\n",
    "\n",
    "airline_data.dtypes"
   ]
  },
  {
   "cell_type": "markdown",
   "metadata": {
    "id": "CzQNmlZ75e_Y"
   },
   "source": [
    "<details>\n",
    "<summary><h4><strong>Hint 1</strong></h4></summary>\n",
    "\n",
    "Recall the methods for exploring DataFrames.\n",
    "</details>"
   ]
  },
  {
   "cell_type": "markdown",
   "metadata": {
    "id": "WWXkObsg5gzd"
   },
   "source": [
    "<details>\n",
    "<summary><h4><strong>Hint 2</strong></h4></summary>\n",
    "\n",
    "Recall a property of a `pandas` DataFrame that allows you to view the data type for each column.</details>"
   ]
  },
  {
   "cell_type": "markdown",
   "metadata": {
    "id": "JU9z6ufC5n58"
   },
   "source": [
    "<details>\n",
    "<summary><h4><strong>Hint 3</strong></h4></summary>\n",
    "\n",
    "Call `.dtypes` on your DataFrame `airline_data` to view the data type of each column.</details>"
   ]
  },
  {
   "cell_type": "markdown",
   "metadata": {
    "id": "Albdy39HZwQT"
   },
   "source": [
    "**Question:** Identify the target (or predicted) variable for passenger satisfaction. What is your initial hypothesis about which variables will be valuable in predicting satisfaction?"
   ]
  },
  {
   "cell_type": "markdown",
   "metadata": {
    "id": "ymp_LP1bVz-q"
   },
   "source": [
    "The variable \"satisfaction\" will be the most suitable one as target."
   ]
  },
  {
   "cell_type": "markdown",
   "metadata": {
    "id": "4zz8claq0Swi"
   },
   "source": [
    "## Step 2: Model preparation\n",
    "\n",
    "Before you proceed with modeling, consider which metrics you will ultimately want to leverage to evaluate your model."
   ]
  },
  {
   "cell_type": "markdown",
   "metadata": {
    "id": "qZkWks-m04cx"
   },
   "source": [
    "**Question:** Which metrics are most suited to evaluating this type of model?"
   ]
  },
  {
   "cell_type": "markdown",
   "metadata": {
    "id": "tWVDNggPeeiE"
   },
   "source": [
    "F1 should be the most suitable metric, since it is the harmonic mean of both precision and recall."
   ]
  },
  {
   "cell_type": "markdown",
   "metadata": {
    "id": "8kgPx_MP0cuc"
   },
   "source": [
    "### Prepare your data for predictions\n",
    "\n",
    "You may have noticed when previewing your data that there are several non-numerical variables (`object` data types) within the dataset.\n",
    "\n",
    "To prepare this DataFrame for modeling, first convert these variables into a numerical format."
   ]
  },
  {
   "cell_type": "code",
   "execution_count": 5,
   "metadata": {
    "id": "03d00d56"
   },
   "outputs": [
    {
     "data": {
      "text/html": [
       "<div>\n",
       "<style scoped>\n",
       "    .dataframe tbody tr th:only-of-type {\n",
       "        vertical-align: middle;\n",
       "    }\n",
       "\n",
       "    .dataframe tbody tr th {\n",
       "        vertical-align: top;\n",
       "    }\n",
       "\n",
       "    .dataframe thead th {\n",
       "        text-align: right;\n",
       "    }\n",
       "</style>\n",
       "<table border=\"1\" class=\"dataframe\">\n",
       "  <thead>\n",
       "    <tr style=\"text-align: right;\">\n",
       "      <th></th>\n",
       "      <th>Age</th>\n",
       "      <th>Flight Distance</th>\n",
       "      <th>Seat comfort</th>\n",
       "      <th>Departure/Arrival time convenient</th>\n",
       "      <th>Food and drink</th>\n",
       "      <th>Gate location</th>\n",
       "      <th>Inflight wifi service</th>\n",
       "      <th>Inflight entertainment</th>\n",
       "      <th>Online support</th>\n",
       "      <th>Ease of Online booking</th>\n",
       "      <th>...</th>\n",
       "      <th>Arrival Delay in Minutes</th>\n",
       "      <th>satisfaction_dissatisfied</th>\n",
       "      <th>satisfaction_satisfied</th>\n",
       "      <th>Customer Type_Loyal Customer</th>\n",
       "      <th>Customer Type_disloyal Customer</th>\n",
       "      <th>Type of Travel_Business travel</th>\n",
       "      <th>Type of Travel_Personal Travel</th>\n",
       "      <th>Class_Business</th>\n",
       "      <th>Class_Eco</th>\n",
       "      <th>Class_Eco Plus</th>\n",
       "    </tr>\n",
       "  </thead>\n",
       "  <tbody>\n",
       "    <tr>\n",
       "      <th>0</th>\n",
       "      <td>65</td>\n",
       "      <td>265</td>\n",
       "      <td>0</td>\n",
       "      <td>0</td>\n",
       "      <td>0</td>\n",
       "      <td>2</td>\n",
       "      <td>2</td>\n",
       "      <td>4</td>\n",
       "      <td>2</td>\n",
       "      <td>3</td>\n",
       "      <td>...</td>\n",
       "      <td>0.0</td>\n",
       "      <td>0</td>\n",
       "      <td>1</td>\n",
       "      <td>1</td>\n",
       "      <td>0</td>\n",
       "      <td>0</td>\n",
       "      <td>1</td>\n",
       "      <td>0</td>\n",
       "      <td>1</td>\n",
       "      <td>0</td>\n",
       "    </tr>\n",
       "    <tr>\n",
       "      <th>1</th>\n",
       "      <td>47</td>\n",
       "      <td>2464</td>\n",
       "      <td>0</td>\n",
       "      <td>0</td>\n",
       "      <td>0</td>\n",
       "      <td>3</td>\n",
       "      <td>0</td>\n",
       "      <td>2</td>\n",
       "      <td>2</td>\n",
       "      <td>3</td>\n",
       "      <td>...</td>\n",
       "      <td>305.0</td>\n",
       "      <td>0</td>\n",
       "      <td>1</td>\n",
       "      <td>1</td>\n",
       "      <td>0</td>\n",
       "      <td>0</td>\n",
       "      <td>1</td>\n",
       "      <td>1</td>\n",
       "      <td>0</td>\n",
       "      <td>0</td>\n",
       "    </tr>\n",
       "    <tr>\n",
       "      <th>2</th>\n",
       "      <td>15</td>\n",
       "      <td>2138</td>\n",
       "      <td>0</td>\n",
       "      <td>0</td>\n",
       "      <td>0</td>\n",
       "      <td>3</td>\n",
       "      <td>2</td>\n",
       "      <td>0</td>\n",
       "      <td>2</td>\n",
       "      <td>2</td>\n",
       "      <td>...</td>\n",
       "      <td>0.0</td>\n",
       "      <td>0</td>\n",
       "      <td>1</td>\n",
       "      <td>1</td>\n",
       "      <td>0</td>\n",
       "      <td>0</td>\n",
       "      <td>1</td>\n",
       "      <td>0</td>\n",
       "      <td>1</td>\n",
       "      <td>0</td>\n",
       "    </tr>\n",
       "    <tr>\n",
       "      <th>3</th>\n",
       "      <td>60</td>\n",
       "      <td>623</td>\n",
       "      <td>0</td>\n",
       "      <td>0</td>\n",
       "      <td>0</td>\n",
       "      <td>3</td>\n",
       "      <td>3</td>\n",
       "      <td>4</td>\n",
       "      <td>3</td>\n",
       "      <td>1</td>\n",
       "      <td>...</td>\n",
       "      <td>0.0</td>\n",
       "      <td>0</td>\n",
       "      <td>1</td>\n",
       "      <td>1</td>\n",
       "      <td>0</td>\n",
       "      <td>0</td>\n",
       "      <td>1</td>\n",
       "      <td>0</td>\n",
       "      <td>1</td>\n",
       "      <td>0</td>\n",
       "    </tr>\n",
       "    <tr>\n",
       "      <th>4</th>\n",
       "      <td>70</td>\n",
       "      <td>354</td>\n",
       "      <td>0</td>\n",
       "      <td>0</td>\n",
       "      <td>0</td>\n",
       "      <td>3</td>\n",
       "      <td>4</td>\n",
       "      <td>3</td>\n",
       "      <td>4</td>\n",
       "      <td>2</td>\n",
       "      <td>...</td>\n",
       "      <td>0.0</td>\n",
       "      <td>0</td>\n",
       "      <td>1</td>\n",
       "      <td>1</td>\n",
       "      <td>0</td>\n",
       "      <td>0</td>\n",
       "      <td>1</td>\n",
       "      <td>0</td>\n",
       "      <td>1</td>\n",
       "      <td>0</td>\n",
       "    </tr>\n",
       "  </tbody>\n",
       "</table>\n",
       "<p>5 rows × 27 columns</p>\n",
       "</div>"
      ],
      "text/plain": [
       "   Age  Flight Distance  Seat comfort  Departure/Arrival time convenient  \\\n",
       "0   65              265             0                                  0   \n",
       "1   47             2464             0                                  0   \n",
       "2   15             2138             0                                  0   \n",
       "3   60              623             0                                  0   \n",
       "4   70              354             0                                  0   \n",
       "\n",
       "   Food and drink  Gate location  Inflight wifi service  \\\n",
       "0               0              2                      2   \n",
       "1               0              3                      0   \n",
       "2               0              3                      2   \n",
       "3               0              3                      3   \n",
       "4               0              3                      4   \n",
       "\n",
       "   Inflight entertainment  Online support  Ease of Online booking  ...  \\\n",
       "0                       4               2                       3  ...   \n",
       "1                       2               2                       3  ...   \n",
       "2                       0               2                       2  ...   \n",
       "3                       4               3                       1  ...   \n",
       "4                       3               4                       2  ...   \n",
       "\n",
       "   Arrival Delay in Minutes  satisfaction_dissatisfied  \\\n",
       "0                       0.0                          0   \n",
       "1                     305.0                          0   \n",
       "2                       0.0                          0   \n",
       "3                       0.0                          0   \n",
       "4                       0.0                          0   \n",
       "\n",
       "   satisfaction_satisfied  Customer Type_Loyal Customer  \\\n",
       "0                       1                             1   \n",
       "1                       1                             1   \n",
       "2                       1                             1   \n",
       "3                       1                             1   \n",
       "4                       1                             1   \n",
       "\n",
       "   Customer Type_disloyal Customer  Type of Travel_Business travel  \\\n",
       "0                                0                               0   \n",
       "1                                0                               0   \n",
       "2                                0                               0   \n",
       "3                                0                               0   \n",
       "4                                0                               0   \n",
       "\n",
       "   Type of Travel_Personal Travel  Class_Business  Class_Eco  Class_Eco Plus  \n",
       "0                               1               0          1               0  \n",
       "1                               1               1          0               0  \n",
       "2                               1               0          1               0  \n",
       "3                               1               0          1               0  \n",
       "4                               1               0          1               0  \n",
       "\n",
       "[5 rows x 27 columns]"
      ]
     },
     "execution_count": 5,
     "metadata": {},
     "output_type": "execute_result"
    }
   ],
   "source": [
    "# Convert the object predictor variables to numerical dummies.\n",
    "\n",
    "airline_data_dummies = pd.get_dummies(airline_data, columns=['satisfaction','Customer Type','Type of Travel','Class'])\n",
    "airline_data_dummies.head()"
   ]
  },
  {
   "cell_type": "markdown",
   "metadata": {
    "id": "tlxKL4az04cy"
   },
   "source": [
    "<details>\n",
    "<summary><h4><strong>Hint 1</strong></h4></summary>\n",
    "\n",
    "Refer to [the content about feature engineering](https://www.coursera.org/learn/the-nuts-and-bolts-of-machine-learning/lecture/5mEqu/introduction-to-feature-engineering).\n",
    "</details>"
   ]
  },
  {
   "cell_type": "markdown",
   "metadata": {
    "id": "diCw9tRr04cy"
   },
   "source": [
    "<details>\n",
    "<summary><h4><strong>Hint 2</strong></h4></summary>\n",
    "\n",
    "Use the `pandas` function for transforming categorical data into \"dummy\" variables.</details>"
   ]
  },
  {
   "cell_type": "markdown",
   "metadata": {
    "id": "1yE00Fex04cy"
   },
   "source": [
    "<details>\n",
    "<summary><h4><strong>Hint 3</strong></h4></summary>\n",
    "\n",
    "Use the `get_dummies()` function on your DataFrame `airline_data` to create dummies for the categorical variables in your dataset. Note that your target variable will also need this treatment.</details>"
   ]
  },
  {
   "cell_type": "markdown",
   "metadata": {
    "id": "FbDWO7ai04cy"
   },
   "source": [
    "### Isolate your target and predictor variables\n",
    "Separately define the target variable (`satisfaction`) and the features."
   ]
  },
  {
   "cell_type": "code",
   "execution_count": 6,
   "metadata": {
    "id": "xO46EzS8oBIG"
   },
   "outputs": [],
   "source": [
    "# Define the y (target) variable.\n",
    "\n",
    "y = airline_data_dummies['satisfaction_satisfied']\n",
    "\n",
    "# Define the X (predictor) variables.\n",
    "\n",
    "X = airline_data_dummies.copy()\n",
    "X = X.drop(['satisfaction_satisfied', 'satisfaction_dissatisfied'], axis=1)"
   ]
  },
  {
   "cell_type": "code",
   "execution_count": 7,
   "metadata": {},
   "outputs": [
    {
     "data": {
      "text/plain": [
       "(129880, 27)"
      ]
     },
     "execution_count": 7,
     "metadata": {},
     "output_type": "execute_result"
    }
   ],
   "source": [
    "airline_data_dummies.shape"
   ]
  },
  {
   "cell_type": "markdown",
   "metadata": {
    "id": "-SiBf2fH04cz"
   },
   "source": [
    "<details>\n",
    "<summary><h4><strong>Hint 1</strong></h4></summary>\n",
    "\n",
    "Refer to [the content about splitting your data into x and y](https://www.coursera.org/learn/the-nuts-and-bolts-of-machine-learning/lecture/ozK9K/build-a-decision-tree-with-python).\n",
    "</details>"
   ]
  },
  {
   "cell_type": "markdown",
   "metadata": {
    "id": "5fISCsPN04cz"
   },
   "source": [
    "<details>\n",
    "<summary><h4><strong>Hint 2</strong></h4></summary>\n",
    "\n",
    "In `pandas`, use square brackets `[]` to subset your DataFrame by specifying which column(s) to select. Also, quickly subset a DataFrame to exclude a particular column by using the `drop()` function and specifying the column to drop.\n",
    "</details>"
   ]
  },
  {
   "cell_type": "markdown",
   "metadata": {
    "id": "frf-kwtY04cz"
   },
   "source": [
    "<details>\n",
    "<summary><h4><strong>Hint 3</strong></h4></summary>\n",
    "\n",
    "In this case, your target variable was split into two columns from the dummy split. Be sure to include only the column which assigns a positive (i.e., \"satisfied\") outcome as 1.\n",
    "</details>"
   ]
  },
  {
   "cell_type": "markdown",
   "metadata": {
    "id": "cQ-wo4UOoBII"
   },
   "source": [
    "### Divide your data \n",
    "\n",
    "Divide your data into a training set (75% of the data) and test set (25% of the data). This is an important step in the process, as it allows you to reserve a part of the data that the model has not used to test how well the model generalizes (or performs) on new data."
   ]
  },
  {
   "cell_type": "code",
   "execution_count": 8,
   "metadata": {
    "id": "pO2AdPR7oBIJ"
   },
   "outputs": [],
   "source": [
    "# Perform the split operation on your data.\n",
    "# Assign the outputs as follows: X_train, X_test, y_train, y_test.\n",
    "\n",
    "X_train, X_test, y_train, y_test = train_test_split(X, y, test_size=0.25, stratify=y, random_state=42)"
   ]
  },
  {
   "cell_type": "markdown",
   "metadata": {
    "id": "DgY9icEY2mKn"
   },
   "source": [
    "<details>\n",
    "<summary><h4><strong>Hint 1</strong></h4></summary>\n",
    "\n",
    "Refer to [the content about splitting your data between a training and test set](https://www.coursera.org/learn/the-nuts-and-bolts-of-machine-learning/lecture/ozK9K/build-a-decision-tree-with-python).\n",
    "</details>"
   ]
  },
  {
   "cell_type": "markdown",
   "metadata": {
    "id": "pUmzKZUU2mKp"
   },
   "source": [
    "<details>\n",
    "<summary><h4><strong>Hint 2</strong></h4></summary>\n",
    "\n",
    "To perform the splitting, call the function in the `model_selection` module of `sklearn` on the features and target variable.\n",
    "</details>"
   ]
  },
  {
   "cell_type": "markdown",
   "metadata": {
    "id": "ORy1MNR62mKq"
   },
   "source": [
    "<details>\n",
    "<summary><h4><strong>Hint 3</strong></h4></summary>\n",
    "\n",
    "Call the `train_test_split()` function, passing in both `features` and `target`, while configuring the appropriate `test_size`. Assign the output of this split as `X_train`, `X_test`, `y_train`, `y_test`.\n",
    "</details>"
   ]
  },
  {
   "cell_type": "markdown",
   "metadata": {
    "id": "MY0rAjlZAheh"
   },
   "source": [
    "## Step 3: Model building"
   ]
  },
  {
   "cell_type": "markdown",
   "metadata": {
    "id": "v6VpTiBeGvyO"
   },
   "source": [
    "### \"Instantiate\" your XGBClassifer\n",
    "\n",
    "Before you fit your model to your airline dataset, first create the XGB Classifier model and define its objective. You'll use this model to fit and score different hyperparameters during the GridSearch cross-validation process."
   ]
  },
  {
   "cell_type": "code",
   "execution_count": 9,
   "metadata": {
    "id": "IV1ISYSA04c0"
   },
   "outputs": [],
   "source": [
    "# Define xgb to be your XGBClassifier.\n",
    "\n",
    "xgb = XGBClassifier(objective='binary:logistic', random_state=42)"
   ]
  },
  {
   "cell_type": "markdown",
   "metadata": {
    "id": "GkPZLxYU04c0"
   },
   "source": [
    "<details>\n",
    "<summary><h4><strong>Hint 1</strong></h4></summary>\n",
    "\n",
    "Refer to [the content about constructing a classifier model from `xgboost`](https://www.coursera.org/learn/the-nuts-and-bolts-of-machine-learning/lecture/njRAP/build-an-xgboost-model-with-python).</details>"
   ]
  },
  {
   "cell_type": "markdown",
   "metadata": {
    "id": "p9C5xlEx04c0"
   },
   "source": [
    "<details>\n",
    "<summary><h4><strong>Hint 2</strong></h4></summary>\n",
    "\n",
    "Note that the target variable in this case is a binary variable. </details>"
   ]
  },
  {
   "cell_type": "markdown",
   "metadata": {
    "id": "owKHj88104c1"
   },
   "source": [
    "<details>\n",
    "<summary><h4><strong>Hint 3</strong></h4></summary>\n",
    "\n",
    "Use the `XGBClassifier()` from `xgboost`. Set the objective as `binary:logistic`.\n",
    "</details>"
   ]
  },
  {
   "cell_type": "markdown",
   "metadata": {
    "id": "M7kUCHb504c1"
   },
   "source": [
    "### Define the parameters for hyperparameter tuning\n",
    "\n",
    "To identify suitable parameters for your `xgboost` model, first define the parameters for hyperparameter tuning. Specifically, define a range of values for `max_depth`, `min_child_weight`, `learning_rate`, `n_estimators`, `subsample`, and `colsample_bytree`.\n",
    "\n",
    "Consider a more limited range for each parameter to allow for timely iteration and model training."
   ]
  },
  {
   "cell_type": "code",
   "execution_count": 10,
   "metadata": {
    "id": "JjO_QnJz04c1"
   },
   "outputs": [],
   "source": [
    "# Define parameters for tuning as `cv_params`.\n",
    "\n",
    "cv_params = {'max_depth': [4,6], \n",
    "             'min_child_weight': [3,5],\n",
    "             'learning_rate': [0.1, 0.2, 0.3],\n",
    "             'n_estimators': [10, 20],\n",
    "             'subsample': [0.25, 0.5],\n",
    "             'colsample_bytree': [0.25, 0.5],\n",
    "             } "
   ]
  },
  {
   "cell_type": "markdown",
   "metadata": {
    "id": "Kw9awgVE04c1"
   },
   "source": [
    "<details>\n",
    "<summary><h4><strong>Hint 1</strong></h4></summary>\n",
    "\n",
    "Refer to [the content about hyperparameter tuning using GridSearch cross-validation](https://www.coursera.org/learn/the-nuts-and-bolts-of-machine-learning/lecture/afopk/tune-a-decision-tree).</details>"
   ]
  },
  {
   "cell_type": "markdown",
   "metadata": {
    "id": "atDAefeG04c1"
   },
   "source": [
    "<details>\n",
    "<summary><h4><strong>Hint 2</strong></h4></summary>\n",
    "\n",
    "Consider a range of values for each parameter, similar to what you observed in the lesson. </details>"
   ]
  },
  {
   "cell_type": "markdown",
   "metadata": {
    "id": "_zzXqOgf04c1"
   },
   "source": [
    "<details>\n",
    "<summary><h4><strong>Hint 3</strong></h4></summary>\n",
    "\n",
    "Define these parameters using a Python dictionary in the following format: `{'parameter1': [range,of,values]}`</details>"
   ]
  },
  {
   "cell_type": "markdown",
   "metadata": {
    "id": "7LA1VKyV04c2"
   },
   "source": [
    "**Question:** What is the likely effect of adding more estimators to your GridSearch?"
   ]
  },
  {
   "cell_type": "markdown",
   "metadata": {
    "id": "vuIY2Or4ZV_I"
   },
   "source": [
    "It will increase the experience curve of the final model as each added estimator will contribute to the learning process of the subsequent base learner."
   ]
  },
  {
   "cell_type": "markdown",
   "metadata": {
    "id": "wX7X5kVN04c2"
   },
   "source": [
    "### Define how the models will be evaluated\n",
    "\n",
    "Define how the models will be evaluated for hyperparameter tuning. To yield the best understanding of model performance, utilize a suite of metrics."
   ]
  },
  {
   "cell_type": "code",
   "execution_count": 11,
   "metadata": {
    "id": "orCI7GMj04c2"
   },
   "outputs": [],
   "source": [
    "# Define your criteria as `scoring`.\n",
    "\n",
    "scoring = {'accuracy', 'precision', 'recall', 'f1'}"
   ]
  },
  {
   "cell_type": "markdown",
   "metadata": {
    "id": "4P1-imU504c2"
   },
   "source": [
    "<details>\n",
    "<summary><h4><strong>Hint 1</strong></h4></summary>\n",
    "\n",
    "Recall what you've learned about [using metric evaluation](https://www.coursera.org/learn/the-nuts-and-bolts-of-machine-learning/lecture/afopk/tune-a-decision-tree) to determine the metrics you include.</details>"
   ]
  },
  {
   "cell_type": "markdown",
   "metadata": {
    "id": "ZpqJc3aM04c2"
   },
   "source": [
    "<details>\n",
    "<summary><h4><strong>Hint 2</strong></h4></summary>\n",
    "\n",
    "Consider what you've learned about the limitations of only including a single metric, such as `accuracy`. </details>"
   ]
  },
  {
   "cell_type": "markdown",
   "metadata": {
    "id": "9_SLHKSR04c2"
   },
   "source": [
    "<details>\n",
    "<summary><h4><strong>Hint 3</strong></h4></summary>\n",
    "\n",
    "Define metrics which balance the false positives and false negatives in binary classification problems."
   ]
  },
  {
   "cell_type": "markdown",
   "metadata": {
    "id": "BeAqRwg704c2"
   },
   "source": [
    "### Construct the GridSearch cross-validation \n",
    "\n",
    "Construct the GridSearch cross-validation using the model, parameters, and scoring metrics you defined. Additionally, define the number of folds and specify *which metric* from above will guide the refit strategy."
   ]
  },
  {
   "cell_type": "code",
   "execution_count": 12,
   "metadata": {
    "id": "bu_GHb2N04c3"
   },
   "outputs": [],
   "source": [
    "# Construct your GridSearch.\n",
    "\n",
    "xgb_cv = GridSearchCV(xgb, cv_params, scoring=scoring, cv=5, refit='f1')"
   ]
  },
  {
   "cell_type": "markdown",
   "metadata": {
    "id": "FopWeHuF04c3"
   },
   "source": [
    "<details>\n",
    "<summary><h4><strong>Hint 1</strong></h4></summary>\n",
    "\n",
    "Recall what you've learned about constructing a GridSearch for [cross-validation](https://www.coursera.org/learn/the-nuts-and-bolts-of-machine-learning/lecture/W4vAW/verify-performance-using-validation).</details>"
   ]
  },
  {
   "cell_type": "markdown",
   "metadata": {
    "id": "DEGQZkPr04c3"
   },
   "source": [
    "<details>\n",
    "<summary><h4><strong>Hint 2</strong></h4></summary>\n",
    "\n",
    "Balance the time spent on validation with the number of folds you choose. </details>"
   ]
  },
  {
   "cell_type": "markdown",
   "metadata": {
    "id": "vomsOetH04c3"
   },
   "source": [
    "<details>\n",
    "<summary><h4><strong>Hint 3</strong></h4></summary>\n",
    "\n",
    "Choose the refit method which simultaneously balances false positives and false negatives."
   ]
  },
  {
   "cell_type": "markdown",
   "metadata": {
    "id": "9K4LvKdx04c3"
   },
   "source": [
    "### Fit the GridSearch model to your training data\n",
    "\n",
    "If your GridSearch takes too long, revisit the parameter ranges above and consider narrowing the range and reducing the number of estimators.\n",
    "\n",
    "**Note:** The following cell might take several minutes to run."
   ]
  },
  {
   "cell_type": "code",
   "execution_count": 13,
   "metadata": {
    "id": "kHXvHPNW04c3"
   },
   "outputs": [
    {
     "name": "stdout",
     "output_type": "stream",
     "text": [
      "CPU times: user 9min 2s, sys: 914 ms, total: 9min 2s\n",
      "Wall time: 4min 41s\n"
     ]
    },
    {
     "data": {
      "text/plain": [
       "GridSearchCV(cv=5, error_score=nan,\n",
       "             estimator=XGBClassifier(base_score=None, booster=None,\n",
       "                                     callbacks=None, colsample_bylevel=None,\n",
       "                                     colsample_bynode=None,\n",
       "                                     colsample_bytree=None,\n",
       "                                     early_stopping_rounds=None,\n",
       "                                     enable_categorical=False, eval_metric=None,\n",
       "                                     gamma=None, gpu_id=None, grow_policy=None,\n",
       "                                     importance_type=None,\n",
       "                                     interaction_constraints=None,\n",
       "                                     learning_rate=None, max...\n",
       "                                     predictor=None, random_state=42,\n",
       "                                     reg_alpha=None, ...),\n",
       "             iid='deprecated', n_jobs=None,\n",
       "             param_grid={'colsample_bytree': [0.25, 0.5],\n",
       "                         'learning_rate': [0.1, 0.2, 0.3], 'max_depth': [4, 6],\n",
       "                         'min_child_weight': [3, 5], 'n_estimators': [10, 20],\n",
       "                         'subsample': [0.25, 0.5]},\n",
       "             pre_dispatch='2*n_jobs', refit='f1', return_train_score=False,\n",
       "             scoring={'precision', 'recall', 'accuracy', 'f1'}, verbose=0)"
      ]
     },
     "execution_count": 13,
     "metadata": {},
     "output_type": "execute_result"
    }
   ],
   "source": [
    "%%time\n",
    "# fit the GridSearch model to training data\n",
    "\n",
    "xgb_cv.fit(X_train, y_train)"
   ]
  },
  {
   "cell_type": "code",
   "execution_count": 14,
   "metadata": {},
   "outputs": [
    {
     "data": {
      "text/plain": [
       "{'colsample_bytree': 0.5,\n",
       " 'learning_rate': 0.3,\n",
       " 'max_depth': 6,\n",
       " 'min_child_weight': 3,\n",
       " 'n_estimators': 20,\n",
       " 'subsample': 0.5}"
      ]
     },
     "execution_count": 14,
     "metadata": {},
     "output_type": "execute_result"
    }
   ],
   "source": [
    "xgb_cv.best_params_"
   ]
  },
  {
   "cell_type": "markdown",
   "metadata": {
    "id": "YS06KhTSoBIM"
   },
   "source": [
    "**Question:** Which optimal set of parameters did the GridSearch yield?"
   ]
  },
  {
   "cell_type": "markdown",
   "metadata": {
    "id": "KLkpTn0vZ-qa"
   },
   "source": [
    "{'colsample_bytree': 0.5,\n",
    " 'learning_rate': 0.3,\n",
    " 'max_depth': 8,\n",
    " 'min_child_weight': 1,\n",
    " 'n_estimators': 50,\n",
    " 'subsample': 0.5}"
   ]
  },
  {
   "cell_type": "markdown",
   "metadata": {
    "id": "OOBvfCNeoBIM"
   },
   "source": [
    "<details>\n",
    "<summary><h4><strong>Hint 1</strong></h4></summary>\n",
    "\n",
    "Recall what you've learned about the result of the GridSearch.</details>"
   ]
  },
  {
   "cell_type": "markdown",
   "metadata": {
    "id": "gzT16WHjoBIM"
   },
   "source": [
    "<details>\n",
    "<summary><h4><strong>Hint 2</strong></h4></summary>\n",
    "\n",
    "Once you've fitted the GridSearch model to your training data, there will be an attribute to access which yields to the optimal parameter set.</details>"
   ]
  },
  {
   "cell_type": "markdown",
   "metadata": {
    "id": "IILInxLYoBIN"
   },
   "source": [
    "<details>\n",
    "<summary><h4><strong>Hint 3</strong></h4></summary>\n",
    "\n",
    "Access the `best_params_` attribute from your fitted model. </details>"
   ]
  },
  {
   "cell_type": "markdown",
   "metadata": {
    "id": "m5EFtZfXoBIN"
   },
   "source": [
    "### Save your model for reference using `pickle`\n",
    "\n",
    "Use the `pickle` library you've already imported to save the output of this model."
   ]
  },
  {
   "cell_type": "code",
   "execution_count": 15,
   "metadata": {
    "id": "y1yjbFhJ04c4"
   },
   "outputs": [],
   "source": [
    "# Use `pickle` to save the trained model.\n",
    "\n",
    "path = '/home/jovyan/work/'\n",
    "with open(path + 'xgb_cv_model.pickle', 'wb') as to_write:\n",
    "    pickle.dump(xgb_cv, to_write) "
   ]
  },
  {
   "cell_type": "code",
   "execution_count": 16,
   "metadata": {},
   "outputs": [],
   "source": [
    "with open(path+'xgb_cv_model.pickle', 'rb') as to_read:\n",
    "    xgb_cv = pickle.load(to_read)"
   ]
  },
  {
   "cell_type": "markdown",
   "metadata": {
    "id": "74v1TcAz04c4"
   },
   "source": [
    "<details>\n",
    "<summary><h4><strong>Hint 1</strong></h4></summary>\n",
    "\n",
    "Refer to [the content about \"pickling\" prior models](https://www.coursera.org/learn/the-nuts-and-bolts-of-machine-learning/lecture/FSnam/build-and-validate-a-random-forest-model-using-a-validation-data-set).</details>"
   ]
  },
  {
   "cell_type": "markdown",
   "metadata": {
    "id": "i-xt3jro04c5"
   },
   "source": [
    "<details>\n",
    "<summary><h4><strong>Hint 2</strong></h4></summary>\n",
    "\n",
    "The model to be pickled is the fitted GridSearch model from above. </details>"
   ]
  },
  {
   "cell_type": "markdown",
   "metadata": {
    "id": "jiEBmZUI04c5"
   },
   "source": [
    "<details>\n",
    "<summary><h4><strong>Hint 3</strong></h4></summary>\n",
    "\n",
    "Call `pickle.dump()`, reference the fitted GridSearch model, and provide a name for the pickle file."
   ]
  },
  {
   "cell_type": "markdown",
   "metadata": {
    "id": "qgV_6xAQAvgg"
   },
   "source": [
    "## Step 4: Results and evaluation\n",
    "\n",
    "### Formulate predictions on your test set\n",
    "\n",
    "To evaluate the predictions yielded from your model, leverage a series of metrics and evaluation techniques from scikit-learn by examining the actual observed values in the test set relative to your model's prediction.\n",
    "\n",
    "First, use your trained model to formulate predictions on your test set."
   ]
  },
  {
   "cell_type": "code",
   "execution_count": 17,
   "metadata": {
    "id": "gUEgzQW_6oMV"
   },
   "outputs": [],
   "source": [
    "# Apply your model to predict on your test data. Call this output \"y_pred\".\n",
    "\n",
    "y_pred = xgb_cv.predict(X_test)"
   ]
  },
  {
   "cell_type": "markdown",
   "metadata": {
    "id": "l2vRT5XeoBIN"
   },
   "source": [
    "<details>\n",
    "<summary><h4><strong>Hint 1</strong></h4></summary>\n",
    "\n",
    "Recall what you've learned about creating predictions from trained models.</details>"
   ]
  },
  {
   "cell_type": "markdown",
   "metadata": {
    "id": "Vo1E7RjtoBIN"
   },
   "source": [
    "<details>\n",
    "<summary><h4><strong>Hint 2</strong></h4></summary>\n",
    "\n",
    "Use the fitted GridSearch model from your training set and predict the predictor variables you reserved in the train-test split.</details>"
   ]
  },
  {
   "cell_type": "markdown",
   "metadata": {
    "id": "azSq51xXoBIN"
   },
   "source": [
    "<details>\n",
    "<summary><h4><strong>Hint 3</strong></h4></summary>\n",
    "\n",
    "Call `predict()` on your fitted model and reference `X_test` to create these predictions.\n",
    "</details>"
   ]
  },
  {
   "cell_type": "markdown",
   "metadata": {
    "id": "XPswDdr1oBIO"
   },
   "source": [
    "### Leverage metrics to evaluate your model's performance\n",
    "\n",
    "Apply a series of metrics from scikit-learn to assess your model. Specifically, print the accuracy score, precision score, recall score, and f1 score associated with your test data and predicted values."
   ]
  },
  {
   "cell_type": "code",
   "execution_count": 39,
   "metadata": {
    "id": "INf2Rd_MoBIP"
   },
   "outputs": [
    {
     "name": "stdout",
     "output_type": "stream",
     "text": [
      "The Accuracy score is: 0.932\n",
      "The Precision score is: 0.942\n",
      "The Recall score is: 0.933\n",
      "The F1 score is: 0.937\n"
     ]
    }
   ],
   "source": [
    "# 1. Print your accuracy score.\n",
    "\n",
    "accuracy = accuracy_score(y_test, y_pred)\n",
    "print(\"The Accuracy score is:\", round(accuracy,3))\n",
    "\n",
    "# 2. Print your precision score.\n",
    "\n",
    "precision = precision_score(y_test, y_pred)\n",
    "      \n",
    "print(\"The Precision score is:\", round(precision,3))\n",
    "\n",
    "# 3. Print your recall score.\n",
    "\n",
    "recall = recall_score(y_test, y_pred)\n",
    "print(\"The Recall score is:\", round(recall,3))\n",
    "\n",
    "# 4. Print your f1 score.\n",
    "\n",
    "f1 = f1_score(y_test, y_pred)\n",
    "print(\"The F1 score is:\", round(f1,3))"
   ]
  },
  {
   "cell_type": "markdown",
   "metadata": {
    "id": "mEgb0a2YoBIP"
   },
   "source": [
    "<details>\n",
    "<summary><h4><strong>Hint 1</strong></h4></summary>\n",
    "\n",
    "Refer to [the content about model evaluation for detail on these metrics](https://www.coursera.org/learn/the-nuts-and-bolts-of-machine-learning/lecture/njRAP/build-an-xgboost-model-with-python).\n",
    "</details>"
   ]
  },
  {
   "cell_type": "markdown",
   "metadata": {
    "id": "oT143KsSoBIP"
   },
   "source": [
    "<details>\n",
    "<summary><h4><strong>Hint 2</strong></h4></summary>\n",
    "\n",
    "Use the function in the `metrics` module in `sklearn` to compute each of these metrics.\n",
    "</details>"
   ]
  },
  {
   "cell_type": "markdown",
   "metadata": {
    "id": "BECv4a2toBIP"
   },
   "source": [
    "<details>\n",
    "<summary><h4><strong>Hint 3</strong></h4></summary>\n",
    "\n",
    "Call `accuracy_score()`, `precision_score()`, `recall_score()`, and `f1_score()`, passing `y_test` and `y_pred` into each.\n",
    "</details>"
   ]
  },
  {
   "cell_type": "markdown",
   "metadata": {
    "id": "dDx7rrdNoBIP"
   },
   "source": [
    "**Question:** How should you interpret your accuracy score?"
   ]
  },
  {
   "cell_type": "markdown",
   "metadata": {
    "id": "mWUqly7WbVEg"
   },
   "source": [
    "It is the ratio of correctly predicted observations to total observations. The accuracy is 93.2%, meaning that the model was able to make accurate predictions of TPs and TNs with 93.2% of total predictions. The model was able to capture 93.2% of satisfied and dissatisfied customers."
   ]
  },
  {
   "cell_type": "markdown",
   "metadata": {
    "id": "QirKWngCah9v"
   },
   "source": [
    "**Question:** Is your accuracy score alone sufficient to evaluate your model?"
   ]
  },
  {
   "cell_type": "markdown",
   "metadata": {
    "id": "ApnZ_M5pbdC9"
   },
   "source": [
    "Other metrics such as Precision and F1 should also be taken into account when evaluating the model due to their significance."
   ]
  },
  {
   "cell_type": "markdown",
   "metadata": {
    "id": "evpAa_4noBIP"
   },
   "source": [
    "**Question:** When observing the precision and recall scores of your model, how do you interpret these values, and is one more accurate than the other?"
   ]
  },
  {
   "cell_type": "markdown",
   "metadata": {
    "id": "Ew7L0yIubmGb"
   },
   "source": [
    "Precision is 94.2%, recall is 93.3%. Precision indicates that of all positive predictions made by the model, 94.2% were TP, which is a fairly good ratio to capture potential satisfied customers. On the otherhand, of all real positive cases, 93.3% were predicted as positive by the model. F1 (93.7% in here) would be better than both measures since it combines the two together. The accuracy of either measure depends on the situation and the nature of the target variable that needs to be predicted."
   ]
  },
  {
   "cell_type": "markdown",
   "metadata": {
    "id": "7ghkTwSUoBIP"
   },
   "source": [
    "**Question:** What does your model's F1 score tell you, beyond what the other metrics provide?*"
   ]
  },
  {
   "cell_type": "markdown",
   "metadata": {
    "id": "qE996PP6by1l"
   },
   "source": [
    "The F1 balances between precision and recall, therefore in this model it lies in between both of them. It should reflect more balanced view of satisfied customers accurately predicted by the model."
   ]
  },
  {
   "cell_type": "markdown",
   "metadata": {
    "id": "mNzDfI3RoBIQ"
   },
   "source": [
    "### Gain clarity with the confusion matrix\n",
    "\n",
    "Recall that a **confusion matrix** is a graphic that shows a model's true and false positives and true and false negatives. It helps to create a visual representation of the components feeding into the metrics above.\n",
    "\n",
    "Create a confusion matrix based on your predicted values for the test set."
   ]
  },
  {
   "cell_type": "code",
   "execution_count": 19,
   "metadata": {
    "id": "ntoJ-YG7oBIQ"
   },
   "outputs": [
    {
     "data": {
      "image/png": "[encoded data removed]",
      "text/plain": [
       "<Figure size 432x288 with 2 Axes>"
      ]
     },
     "metadata": {
      "needs_background": "light"
     },
     "output_type": "display_data"
    }
   ],
   "source": [
    "# Construct and display your confusion matrix.\n",
    "\n",
    "# Construct the confusion matrix for your predicted and test values.\n",
    "\n",
    "import sklearn.metrics as metrics\n",
    "cm = metrics.confusion_matrix(y_test, y_pred, labels = xgb_cv.classes_)\n",
    "disp = metrics.ConfusionMatrixDisplay(confusion_matrix = cm, display_labels = xgb_cv.classes_)\n",
    "disp.plot();"
   ]
  },
  {
   "cell_type": "markdown",
   "metadata": {
    "id": "GoybXyCioBIQ"
   },
   "source": [
    "<details>\n",
    "<summary><h4><strong>Hint 1</strong></h4></summary>\n",
    "\n",
    "Refer to [the content about model evaluation](https://www.coursera.org/learn/the-nuts-and-bolts-of-machine-learning/lecture/njRAP/build-an-xgboost-model-with-python).\n",
    "</details>"
   ]
  },
  {
   "cell_type": "markdown",
   "metadata": {
    "id": "b2lqmzQ-oBIQ"
   },
   "source": [
    "<details>\n",
    "<summary><h4><strong>Hint 2</strong></h4></summary>\n",
    "\n",
    "Use the functions in the `metrics` module to create a confusion matrix.\n",
    "</details>"
   ]
  },
  {
   "cell_type": "markdown",
   "metadata": {
    "id": "Wi_x2zTDoBIQ"
   },
   "source": [
    "<details>\n",
    "<summary><h4><strong>Hint 3</strong></h4></summary>\n",
    "\n",
    "Call `confusion_matrix`, passing in `y_test` and `y_pred`. Next, utilize `ConfusionMatrixDisplay()` to display your confusion matrix.\n",
    "</details>"
   ]
  },
  {
   "cell_type": "markdown",
   "metadata": {
    "id": "aLkF5znkNk7m"
   },
   "source": [
    "**Question:** When observing your confusion matrix, what do you notice? Does this correlate to any of your other calculations?"
   ]
  },
  {
   "cell_type": "markdown",
   "metadata": {
    "id": "N2TklKcpcjdz"
   },
   "source": [
    "According to the matrix, the model was able to accurately capture 14,000 dissatisfied customers (TN) and 170 satisfied customers (TP). The matrix also misclassified 1000 customers as satisfied (FP), meaning that they could slip away unnoticed from the company due to this misclassification, and misclassified 1200 customers as dissatisfied (FN) which could in turn lead the company to spend more resources on them attempting to incentivise them to continue using the company's services of flying, while they don't need such incentives at the first place, which could instead be allocated to truely dissatisfied customers who have higher probability of churn. Nevertheless, the figure 14,000 is fairly good for a model and should be an eye-opener for the company to devise suitable plans for this class of customers."
   ]
  },
  {
   "cell_type": "markdown",
   "metadata": {
    "id": "_eSapvg504c8"
   },
   "source": [
    "### Visualize most important features\n",
    "\n",
    "`xgboost` has a built-in function to visualize the relative importance of the features in the model using `matplotlib`. Output and examine the feature importance of your model."
   ]
  },
  {
   "cell_type": "code",
   "execution_count": 20,
   "metadata": {
    "id": "Hnpvuqt204c8",
    "scrolled": true
   },
   "outputs": [
    {
     "data": {
      "image/png": "[encoded data removed]",
      "text/plain": [
       "<Figure size 576x396 with 1 Axes>"
      ]
     },
     "metadata": {
      "needs_background": "light"
     },
     "output_type": "display_data"
    }
   ],
   "source": [
    "# Plot the relative feature importance of the predictor variables in your model.\n",
    "\n",
    "from xgboost import plot_importance\n",
    "plt.rcParams[\"figure.figsize\"] = (8,5.5)\n",
    "plot_importance(booster=xgb_cv.best_estimator_);"
   ]
  },
  {
   "cell_type": "markdown",
   "metadata": {
    "id": "Nh3OwDGA04c8"
   },
   "source": [
    "<details>\n",
    "<summary><h4><strong>Hint 1</strong></h4></summary>\n",
    "\n",
    "Recall the attributes that are provided once the model is fitted to training data.</details>"
   ]
  },
  {
   "cell_type": "markdown",
   "metadata": {
    "id": "daNM_TDv04c8"
   },
   "source": [
    "<details>\n",
    "<summary><h4><strong>Hint 2</strong></h4></summary>\n",
    "\n",
    "Examine the `best_estimator_` attribute of your fitted model.</details>"
   ]
  },
  {
   "cell_type": "markdown",
   "metadata": {
    "id": "zTrxBW9E04c8"
   },
   "source": [
    "<details>\n",
    "<summary><h4><strong>Hint 3</strong></h4></summary>\n",
    "\n",
    "To easily visualize feature importance, call the built-in `plot_importance` function `xgboost` offers on the `best_estimator_`.</details>"
   ]
  },
  {
   "cell_type": "markdown",
   "metadata": {
    "id": "nyhdt0LF04c9"
   },
   "source": [
    "**Question:** Examine the feature importances outputted above. What is your assessment of the result? Did anything surprise you?"
   ]
  },
  {
   "cell_type": "markdown",
   "metadata": {
    "id": "bietXsnWc5Q7"
   },
   "source": [
    "According to the plot, food and drink, age, and flight distance are the most important predictors with regard to customer satisfaction. that means the three factors are worhty of further studies as to how these variables affect customer satisfaction and how accordingly can policies and strategies be formulated by the company to increase satisfaction and decrease dissatisfaction among customers in order to increase customer retention."
   ]
  },
  {
   "cell_type": "markdown",
   "metadata": {
    "id": "PaKUSbqDW28K"
   },
   "source": [
    "### Compare models\n",
    "\n",
    "Create a table of results to compare model performance."
   ]
  },
  {
   "cell_type": "code",
   "execution_count": 40,
   "metadata": {
    "id": "6L7AgdeldsKZ"
   },
   "outputs": [
    {
     "data": {
      "text/html": [
       "<div>\n",
       "<style scoped>\n",
       "    .dataframe tbody tr th:only-of-type {\n",
       "        vertical-align: middle;\n",
       "    }\n",
       "\n",
       "    .dataframe tbody tr th {\n",
       "        vertical-align: top;\n",
       "    }\n",
       "\n",
       "    .dataframe thead th {\n",
       "        text-align: right;\n",
       "    }\n",
       "</style>\n",
       "<table border=\"1\" class=\"dataframe\">\n",
       "  <thead>\n",
       "    <tr style=\"text-align: right;\">\n",
       "      <th></th>\n",
       "      <th>Model</th>\n",
       "      <th>F1</th>\n",
       "      <th>Recall</th>\n",
       "      <th>Precision</th>\n",
       "      <th>Accuracy</th>\n",
       "    </tr>\n",
       "  </thead>\n",
       "  <tbody>\n",
       "    <tr>\n",
       "      <th>0</th>\n",
       "      <td>Tuned Decision Tree</td>\n",
       "      <td>0.943620</td>\n",
       "      <td>0.935723</td>\n",
       "      <td>0.951658</td>\n",
       "      <td>0.938794</td>\n",
       "    </tr>\n",
       "    <tr>\n",
       "      <th>1</th>\n",
       "      <td>Tuned Random Forest</td>\n",
       "      <td>0.958077</td>\n",
       "      <td>0.950454</td>\n",
       "      <td>0.965824</td>\n",
       "      <td>0.954467</td>\n",
       "    </tr>\n",
       "    <tr>\n",
       "      <th>2</th>\n",
       "      <td>Tuned XGBoost</td>\n",
       "      <td>0.937341</td>\n",
       "      <td>0.932647</td>\n",
       "      <td>0.942083</td>\n",
       "      <td>0.931752</td>\n",
       "    </tr>\n",
       "  </tbody>\n",
       "</table>\n",
       "</div>"
      ],
      "text/plain": [
       "                 Model        F1    Recall  Precision  Accuracy\n",
       "0  Tuned Decision Tree  0.943620  0.935723   0.951658  0.938794\n",
       "1  Tuned Random Forest  0.958077  0.950454   0.965824  0.954467\n",
       "2        Tuned XGBoost  0.937341  0.932647   0.942083  0.931752"
      ]
     },
     "execution_count": 40,
     "metadata": {},
     "output_type": "execute_result"
    }
   ],
   "source": [
    "# Create a table of results to compare model performance.\n",
    "\n",
    "table = pd.DataFrame()\n",
    "table = table.append({'Model': \"Tuned Decision Tree\",\n",
    "                        'F1':  0.94362,\n",
    "                        'Recall': 0.935723,\n",
    "                        'Precision': 0.951658,\n",
    "                        'Accuracy': 0.938794\n",
    "                      },\n",
    "                        ignore_index=True\n",
    "                    )\n",
    "\n",
    "table = table.append({'Model': \"Tuned Random Forest\",\n",
    "                        'F1':  0.958077,\n",
    "                        'Recall': 0.950454,\n",
    "                        'Precision': 0.965824,\n",
    "                        'Accuracy': 0.954467\n",
    "                      },\n",
    "                        ignore_index=True\n",
    "                    )\n",
    "\n",
    "table = table.append({'Model': \"Tuned XGBoost\",\n",
    "                        'F1':  f1,\n",
    "                        'Recall': recall,\n",
    "                        'Precision': precision,\n",
    "                        'Accuracy': accuracy\n",
    "                      },\n",
    "                        ignore_index=True\n",
    "                    )\n",
    "\n",
    "table"
   ]
  },
  {
   "cell_type": "markdown",
   "metadata": {
    "id": "qqu9L0ip328H"
   },
   "source": [
    "<details>\n",
    "<summary><h4><strong>Hint 1</strong></h4></summary>\n",
    "\n",
    "Create a DataFrame and use the `append()` function to add the results of each model as a new row.\n",
    "\n",
    "</details>"
   ]
  },
  {
   "cell_type": "markdown",
   "metadata": {
    "id": "trUO9XEHbXG6"
   },
   "source": [
    "**Question:** How does this model compare to the decision tree and random forest models you built in previous labs? "
   ]
  },
  {
   "cell_type": "markdown",
   "metadata": {
    "id": "AEA_YmCgg-7g"
   },
   "source": [
    "According to the table above, the Tuned Random Forest model is the best in terms of performance and prediction."
   ]
  },
  {
   "cell_type": "markdown",
   "metadata": {
    "id": "xur2FC5xAzp0"
   },
   "source": [
    "## Considerations\n",
    "\n",
    "**What are some key takeaways you learned from this lab?**\n",
    "\n",
    "[Write your response here. Double-click (or enter) to edit.]\n",
    "\n",
    "**How would you share your findings with your team?**\n",
    "\n",
    "- The XGBoost model was designed with the following parameters: 'max_depth':[4,6], 'min_child_weight':[3,5], 'learning_rate':[0.1, 0.2, 0.3], 'n_estimators': [10, 20], 'subsample': [0.25, 0.5], 'colsample_bytree': [0.25, 0.5], out of which, after fitting the model, best parameters were found to be: 'colsample_bytree': 0.5, 'learning_rate': 0.3, 'max_depth': 6, 'min_child_weight': 3, 'n_estimators': 20, 'subsample': 0.5.\n",
    "- The four metric scores of the model were as follows: Accuracy: 93.2%, Precision: 94.2%, Recall: 93.3%, and F1: 93.7%.\n",
    "- According to the confusion matrix desgined, the model was able to accurately capture 14,000 dissatisfied customers (TN) and 170 satisfied customers (TP). The model however misclassified 1000 customers as satisfied (FP), meaning that they could slip away unnoticed from the company due to this misclassification, and misclassified 1200 customers as dissatisfied (FN) which could in turn lead the company to spend more resources on them attempting to incentivise them to continue using the company's services of flying, while they don't need such incentives at the first place, which could instead be allocated to truely dissatisfied customers who have higher probability of churn. Nevertheless, the figure 14,000 is fairly good for a model and should be an eye-opener for the company to devise suitable plans for this class of customers.\n",
    "- The model showed that food and drink, age, and flight distance are the most important predictors with regard to customer satisfaction. that means the three factors are worhty of further studies as to how these variables affect customer satisfaction and how accordingly can policies and strategies be formulated by the company to increase satisfaction and decrease dissatisfaction among customers in order to increase customer retention.\n",
    "- Out of the tuned Decision Tree, Random Forest, and XGBoost models designed for this sutdy, the Random Forest seemed to be the best performing among all of the three.\n",
    "\n",
    "**What would you share with and recommend to stakeholders?**\n",
    "\n",
    "- An XGBoost model was designed to study the variables that affect and predict customer satisfaction the most. It performed fairly good especially compared to previous models designed for the same project.\n",
    "- The model showed that food and drink, age, and flight distance are the most important predictors with regard to customer satisfaction. that means the three factors are worhty of further studies as to how these variables affect customer satisfaction and how accordingly can policies and strategies be formulated by the company to increase satisfaction and decrease dissatisfaction among customers in order to increase customer retention.\n",
    "- The model was able to accurately capture 14,000 dissatisfied customers and 170 satisfied customers. The model however misclassified 1000 customers as satisfied, meaning that they could slip away unnoticed from the company due to this misclassification, and misclassified 1200 customers as dissatisfied, which could in turn lead the company to spend more resources on them attempting to incentivise them to continue using the company's services of flying, while they don't need such incentives at the first place, which could instead be allocated to truely dissatisfied customers who have higher probability of churn. Nevertheless, the figure 14,000 is fairly good for a model and should be an eye-opener for the company to devise suitable plans for this class of customers."
   ]
  },
  {
   "cell_type": "markdown",
   "metadata": {},
   "source": [
    "**Congratulations!** You've completed this lab. However, you may not notice a green check mark next to this item on Coursera's platform. Please continue your progress regardless of the check mark. Just click on the \"save\" icon at the top of this notebook to ensure your work has been logged"
   ]
  }
 ],
 "metadata": {
  "colab": {
   "collapsed_sections": [],
   "provenance": []
  },
  "kernelspec": {
   "display_name": "Python 3",
   "language": "python",
   "name": "python3"
  },
  "language_info": {
   "codemirror_mode": {
    "name": "ipython",
    "version": 3
   },
   "file_extension": ".py",
   "mimetype": "text/x-python",
   "name": "python",
   "nbconvert_exporter": "python",
   "pygments_lexer": "ipython3",
   "version": "3.7.6"
  }
 },
 "nbformat": 4,
 "nbformat_minor": 1
}
